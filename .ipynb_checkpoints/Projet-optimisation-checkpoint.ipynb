{
 "cells": [
  {
   "cell_type": "code",
   "execution_count": 6,
   "id": "a4565919",
   "metadata": {},
   "outputs": [],
   "source": [
    "import numpy as np\n",
    "from scipy import optimize\n",
    "from casadi import *\n",
    "import time\n",
    "import autograd"
   ]
  },
  {
   "cell_type": "markdown",
   "id": "8ed51b71",
   "metadata": {},
   "source": [
    "Le problème d'optimisation, s'écrit, avec une fonction f à minimiser qui correspond au coût de la facture, à un facteur dt près qu'on omettra (le probleème de minimisation reste alors inchangé).\n",
    "Ainsi, la variable d'action x sera le vecteur des puissances $P_0,P_1, \\ldots, P_N$ et des températures $T_0,T_1, \\ldots, T_N$ dans cet ordre: \n",
    "$$x= (P_0,P_1, \\ldots, P_N,T_0,T_1, \\ldots, T_N$$\n",
    "Et la fonction à minimiser:\n",
    "$$f(x)=\\sum_{i=0}^N c_iP_i=\\sum_{i=0}^N c[i]*x[i]=\\mathbf{c}^\\intercal \\mathbf{x}$$ \n",
    "Avec $c=(c_0,c_1, \\ldots, c_N, 0,\\ldots, 0)$, donc $c[i]=\\left\\{\\begin{array}{rcl} c_i & \\mbox{si} & 0 \\leq i \\leq N \\\\ 0 & \\mbox{si} & N+1 \\leq i \\leq 2N+1 \\end{array}\\right.$\n",
    "\n",
    "Les contraintes égalité et inégalité sont définies comme suit:\n",
    "$$c_{eq}(x)= \\left\\{\\begin{array}{rcl} 0 & \\mbox{si} & 0 \\leq i \\leq N-1 \\\\ x[N] & \\mbox{si} & i=N \\\\x[N+1] - T_{in} & \\mbox{si} & i=N+1\\\\ e^{-(k+h)dt} x[i-1] +\\frac{(1-e^{-(k+h)dt}}{k+h} (b*x[i-N-2]+hTe) \\mbox{si} & N+2 \\leq i \\leq 2N+1 \\end{array}\\right.$$\n",
    "\n",
    "D'autre part: \n",
    "$$c_{in}(x)=(u,v)$$ \n",
    "Avec : \n",
    "$u= x - (P_M,\\ldots, P_M,T_M,\\ldots,T_M)^T = x - w^T $ et $ w=\\begin{pmatrix} P_M  \\\\ \\ldots\\\\ P_M \\\\T_M\\\\ \\vdots\\\\T_M \\end{pmatrix}=((P_M)_{0\\leq i \\leq N}, (T_M)_{N+1\\leq i \\leq 2N+1})$\n",
    "\n",
    "et $v= z^T - x$ où $z=\\begin{pmatrix} 0\\\\ \\ldots\\\\0\\\\T_m\\\\ \\vdots\\\\T_m \\end{pmatrix}=((0)_{0\\leq i \\leq N}, (T_m)_{N+1\\leq i \\leq 2N+1})$\n"
   ]
  },
  {
   "cell_type": "code",
   "execution_count": 7,
   "id": "3ad30770",
   "metadata": {},
   "outputs": [],
   "source": [
    "N=47 \n",
    "dt=0.5\n",
    "t0=23\n",
    "k=0.01\n",
    "h=0.05\n",
    "b=1/500"
   ]
  },
  {
   "cell_type": "code",
   "execution_count": 8,
   "id": "ce2ce34b",
   "metadata": {},
   "outputs": [],
   "source": [
    "Tm=18\n",
    "T_in=Tm\n",
    "TM=30\n",
    "PM=5000\n",
    "c_cr=1\n",
    "c_pl=3/2"
   ]
  },
  {
   "cell_type": "code",
   "execution_count": 9,
   "id": "6e99b345",
   "metadata": {},
   "outputs": [
    {
     "name": "stdout",
     "output_type": "stream",
     "text": [
      "[1.5 1.5 1.  1.  1.  1.  1.  1.  1.  1.  1.  1.  1.  1.  1.  1.5 1.5 1.5\n",
      " 1.5 1.5 1.5 1.5 1.5 1.5 1.5 1.5 1.  1.  1.  1.  1.  1.5 1.5 1.5 1.5 1.5\n",
      " 1.5 1.5 1.5 1.5 1.5 1.5 1.5 1.5 1.5 1.5 1.5 1.5 0.  0.  0.  0.  0.  0.\n",
      " 0.  0.  0.  0.  0.  0.  0.  0.  0.  0.  0.  0.  0.  0.  0.  0.  0.  0.\n",
      " 0.  0.  0.  0.  0.  0.  0.  0.  0.  0.  0.  0.  0.  0.  0.  0.  0.  0.\n",
      " 0.  0.  0.  0.  0.  0. ]\n"
     ]
    }
   ],
   "source": [
    "c=np.full(2*N+2, c_pl)\n",
    "\n",
    "c[2:15]=c_cr\n",
    "c[26:31]=c_cr\n",
    "c[48:] = 0\n",
    "print(c)"
   ]
  },
  {
   "cell_type": "code",
   "execution_count": 10,
   "id": "68d64813",
   "metadata": {},
   "outputs": [],
   "source": [
    "def f(x):\n",
    "    return np.dot(c,x)\n",
    "    \n",
    "def c_eq(x):\n",
    "    c=np.zeros(2*N+2)\n",
    "    c[N]=x[N]\n",
    "    c[N+1]= x[N+1] - T_in\n",
    "    t=t0\n",
    "    \n",
    "    for i in range(N+2,2*N+2):\n",
    "        Te= 4+ 8*np.exp(-(t-12)**2/40)\n",
    "        g=np.exp(-(k+h)*dt)*x[i-1] +(1-np.exp(-(k+h)*dt))(b*x[i-1-(N+1)]+h*Te)/(k+h)\n",
    "        c[i]=x[i]- g\n",
    "        t+=dt\n",
    "    return c\n",
    "\n",
    "def c_in(x):\n",
    "    u=np.zeros(2*N+2)\n",
    "    v=np.zeros(2*N+2)\n",
    "    cin=np.zeros((2*N+2,2))\n",
    "    for i in range(N+1, 2*N+2):\n",
    "        if (16+N+1<=i and i<=20+N+1):\n",
    "            v[i]=Tm - x[i]\n",
    "            u[i]=x[i]- TM\n",
    "        else:\n",
    "            if (38+N+1<=i and i<=47+N+1):\n",
    "                v[i]=Tm - x[i]\n",
    "                u[i]=x[i]- TM\n",
    "    for i in range(0,N+1):\n",
    "        u[i]=x[i]- PM\n",
    "        v[i]= - x[i]\n",
    "    cin[:,0]=u\n",
    "    cin[:,1]=v\n",
    "    return cin\n"
   ]
  },
  {
   "cell_type": "markdown",
   "id": "3b9d12e7",
   "metadata": {},
   "source": [
    "##### Avec Casadi"
   ]
  },
  {
   "cell_type": "code",
   "execution_count": null,
   "id": "168f1412",
   "metadata": {
    "scrolled": true
   },
   "outputs": [],
   "source": [
    "opti = casadi.Opti()\n",
    "n = 2*N+2\n",
    "x = opti.variable(n)\n",
    "f=0\n",
    "for i in range(n):\n",
    "    f+=x[i]*c[i]\n",
    "\n",
    "cont=c_in(x)\n",
    "opti.minimize(f)\n",
    "opti.subject_to(cont[:,0]<=0)\n",
    "opti.subject_to(cont[:,1]<=0)\n",
    "    \n",
    "opti.subject_to(c_eq(x)==0)\n",
    "\n",
    "x0 = np.zeros(2*N+2)\n",
    "x[N+1]= T_in\n",
    "\n",
    "opti.set_initial(x,x0)\n",
    "opti.solver('ipopt')\n",
    "sol = opti.solve()\n",
    "print(sol.value(x))"
   ]
  },
  {
   "cell_type": "markdown",
   "id": "b7566fbf",
   "metadata": {},
   "source": [
    "Avec scipy : (possible ?)"
   ]
  },
  {
   "cell_type": "code",
   "execution_count": null,
   "id": "2462afe7",
   "metadata": {},
   "outputs": [],
   "source": [
    "def grad(f):\n",
    "    d = autograd.grad\n",
    "    def grad_f(x, y):\n",
    "        return np.array([d(f, 0)(x, y), d(f, 1)(x, y)])\n",
    "    return grad_f\n",
    "\n",
    "def Jac(f):\n",
    "    j = autograd.jacobian\n",
    "    def J_f(x, y):\n",
    "        return np.array([j(f, 0)(x, y), j(f, 1)(x, y)]).T\n",
    "    return J_f"
   ]
  },
  {
   "cell_type": "code",
   "execution_count": null,
   "id": "d9e309a1",
   "metadata": {},
   "outputs": [],
   "source": [
    "def f_min(x):\n",
    "    np.dot(c,x)\n",
    "    \n",
    "grad_f_min=grad(f_min)\n",
    "J_cin= Jac(c_in)\n",
    "J_ceq= Jac(c_eq)\n",
    "\n",
    "x0 = np.zeros(2*N+2)\n",
    "x[N+1]= T_in\n",
    "    \n",
    "ineq_cons = {'type': 'ineq','fun' : lambda x: c_in(x),'jac' : lambda x: J_cin(x)}\n",
    "eq_cons={'type': 'eq','fun' : lambda x: c_eq(x),'jac' : lambda x: J_ceq(x)}\n",
    "#res = optimize.minimize(f, x0, method='SLSQP', jac=grad_f_min,\n",
    "#constraints=[ineq_cons, eq_cons], options={'disp': True})\n",
    "\n",
    "#print(res.x)"
   ]
  },
  {
   "cell_type": "markdown",
   "id": "49a8e0a0",
   "metadata": {},
   "source": [
    "### Partie 3"
   ]
  },
  {
   "cell_type": "code",
   "execution_count": 11,
   "id": "c429df0a",
   "metadata": {},
   "outputs": [],
   "source": [
    "#Si on veut minimiser le coût total des nl logements:\n",
    "def f_bis(x):\n",
    "    x_T=np.transpose(x)\n",
    "    couts= np.matmul(x_T,c)\n",
    "    return np.sum(couts)"
   ]
  },
  {
   "cell_type": "code",
   "execution_count": 12,
   "id": "82725859",
   "metadata": {},
   "outputs": [],
   "source": [
    "Tm_1=18\n",
    "Tm_2= 20\n",
    "TM=30\n",
    "PM=5000\n",
    "c_cr=1\n",
    "c_pl=3/2"
   ]
  },
  {
   "cell_type": "code",
   "execution_count": 15,
   "id": "fad1c8ba",
   "metadata": {},
   "outputs": [],
   "source": [
    "a=np.full(2*(2*N+2), c_pl)\n",
    "\n",
    "a[2:15]=c_cr\n",
    "a[26:31]=c_cr\n",
    "a[48:] = 0\n",
    "c=np.concatenate((a,a))\n",
    "#print(c)"
   ]
  },
  {
   "cell_type": "code",
   "execution_count": 3,
   "id": "86846b82",
   "metadata": {},
   "outputs": [],
   "source": [
    "#j=1 ou 2\n",
    "#x est la concaténation des vecteurs associés à chaque logement; x est de taille (2N+2)*2= 4N+4, les 2N+2 premières coordonnées\n",
    "#correspondent au logement 1 (j=1) -pressions et températures - et les 2N+2 dernières au logement 2 (j=2)\n",
    "\n",
    "def c_eq_bis(x):\n",
    "    c=np.zeros((2*N+2,2))\n",
    "    t=t0\n",
    "    for j in (1,3):\n",
    "        if j==1:\n",
    "            T_in=Tm_1\n",
    "            indice_autre=2\n",
    "        else:\n",
    "            T_in=Tm_2\n",
    "            indice_autre=1\n",
    "        \n",
    "        c[N][j-1]=x[N + (2*N+2)*(j-1)]\n",
    "        c[N+1][j-1]= x[N+1+(2*N+2)*j] - T_in\n",
    "        \n",
    "        for i in range(N+2,2*N+2):\n",
    "            Te= 4+ 8*np.exp(-(t-12)**2/40)\n",
    "            g=np.exp(-(k+ 2*h)*dt)*x[i-1 +(2*N+2)*(j-1)] +(1-np.exp(-(k+2*h)*dt))(b*x[i-1-(N+1) +(2*N+2)*(j-1)]+h*Te+h*x[i + (2*N+2)*(indice_autre -1)])/(k+2*h)\n",
    "            c[i][j-1]=x[i +(2*N+2)*(j-1)]- g\n",
    "            t+=dt\n",
    "    return c\n",
    "\n",
    "def c_in_bis(x):\n",
    "    u1=np.zeros(2*N+2)\n",
    "    v1=np.zeros(2*N+2)\n",
    "    u2=np.zeros(2*N+2)\n",
    "    v2=np.zeros(2*N+2)\n",
    "    cin=np.zeros((2*N+2,4))\n",
    "    for i in range(N+1, 2*N+2):\n",
    "        if (16+N+1<=i and i<=20+N+1):\n",
    "            v1[i]=Tm - x[i]\n",
    "            u1[i]=x[i]- TM\n",
    "            v2[i]=Tm - x[i+(2*N+2)]\n",
    "            u2[i]=x[i+(2*N+2)]- TM\n",
    "        else:\n",
    "            if (38+N+1<=i and i<=47+N+1):\n",
    "                v1[i]=Tm_1 - x[i]\n",
    "                u1[i]=x[i]- TM\n",
    "                v2[i]=Tm_2 - x[i+(2*N+2)]\n",
    "                u2[i]=x[i+(2*N+2)]- TM\n",
    "    for i in range(0,N+1):\n",
    "        u1[i]=x[i]- PM\n",
    "        v1[i]= - x[i]\n",
    "        u2[i]=x[i+(2*N+2)]- PM\n",
    "        v2[i]= - x[i+(2*N+2)]\n",
    "    cin[:,0]= u1\n",
    "    cin[:,0]= v1\n",
    "    cin[:,0]= u2\n",
    "    cin[:,0]= v2\n",
    "    return cin"
   ]
  },
  {
   "cell_type": "markdown",
   "id": "797c61df",
   "metadata": {},
   "source": [
    "#### Question 9"
   ]
  },
  {
   "cell_type": "code",
   "execution_count": null,
   "id": "1569a079",
   "metadata": {},
   "outputs": [],
   "source": [
    "epsilon=0.01"
   ]
  },
  {
   "cell_type": "code",
   "execution_count": null,
   "id": "27e2eaaa",
   "metadata": {},
   "outputs": [],
   "source": [
    "def f_tres(x):\n",
    "    x_T=np.transpose(x)\n",
    "    cout= np.matmul(x_T,c)\n",
    "    cout_final=cout\n",
    "    for j in range (1,3):\n",
    "        for i in range (N+1):\n",
    "            cout_final+=dt*c[i]*c[i]*x[i +(N+1)*(j-1)] + epsilon*(x[i +(N+1)*(j-1)]**2)\n",
    "    return cout_final"
   ]
  },
  {
   "cell_type": "code",
   "execution_count": null,
   "id": "58eb7cfa",
   "metadata": {},
   "outputs": [],
   "source": [
    "#nl=2\n",
    "def solveur (f,x0):\n",
    "    opti = casadi.Opti()\n",
    "    n = 4*N+4\n",
    "    x = opti.variable(n)\n",
    "\n",
    "    c1=c_in_bis(x)\n",
    "    \n",
    "    opti.minimize(f)\n",
    "\n",
    "    opti.subject_to(c1[:,0]<=0)\n",
    "    opti.subject_to(c1[:,1]<=0)\n",
    "    opti.subject_to(c1[:,2]<=0)\n",
    "    opti.subject_to(c1[:,3]<=0)\n",
    "    \n",
    "    c2=c_eq_bis(x)\n",
    "    opti.subject_to(c2[:,0]==0)\n",
    "    opti.subject_to(c2[:,1]==0)\n",
    "\n",
    "    opti.set_initial(x,x0)\n",
    "    opti.solver('ipopt')\n",
    "    sol = opti.solve()\n",
    "    return sol.value(x)"
   ]
  },
  {
   "cell_type": "code",
   "execution_count": null,
   "id": "2eebc717",
   "metadata": {},
   "outputs": [],
   "source": [
    "p= 4*N+4 #taille de x\n",
    "n=2\n",
    "def fj(x,j): #j=1 ou 2\n",
    "    xj=x[2*(N+1)*(j-1):, 2*(N+1) + 2*(N+1)*(j-1)]\n",
    "    cj=c[2*(N+1)*(j-1):, 2*(N+1) + 2*(N+1)*(j-1)]\n",
    "    xj_T=np.transpose(xj)\n",
    "    cout= np.matmul(xj_T,cj)\n",
    "    cout_final_j=cout\n",
    "        for i in range (N+1):\n",
    "            cout_final_j+=dt*c[i]*c[i]*x[i +(N+1)*(j-1)] + epsilon*(x[i +(N+1)*(j-1)]**2) \n",
    "    return cout_final_j\n",
    "\n",
    "def cj(x,j):\n",
    "    c1=c_eq_bis(x)\n",
    "    c2=c_in_bis(x)\n",
    "    if j==1:\n",
    "        cj=np.concatenate(c1[:,0], c2[:,0],c2[:,1])\n",
    "    else:\n",
    "        cj=np.concatenate(c1[:,1],c2[:,2], c2[:,3])\n",
    "    return cj"
   ]
  },
  {
   "cell_type": "code",
   "execution_count": null,
   "id": "1aa9ef58",
   "metadata": {},
   "outputs": [],
   "source": [
    "#lambda est de taille 3*(2N+2)\n",
    "\n",
    "def decomposition_coordination(fun, x0, lambda_0, rho=0.1,N_iter=40,epsilon=0.01): \n",
    "    m=len(lambda_0)\n",
    "    k=0\n",
    "    xk=x0\n",
    "    lambda_ki=lambda_0\n",
    "    lambda_kf=np.maximum(np.array([0]*m), lamb + rho*c(x))\n",
    "    while np.absolute(lambda_kf-lambda_ki) >=epsilon and (k+1) <N_iter:\n",
    "        k+=1\n",
    "        lambda_ki=lambda_kf\n",
    "        a=xk\n",
    "        for j in range (1,3):\n",
    "            xj=xk[2*(N+1)*(j-1):, 2*(N+1) + 2*(N+1)*(j-1)]\n",
    "            f=fj(xj)+np.matmul(np.transpose(lambda_ki),cj(a,j))\n",
    "            xk[j-1]=solveur(f,a)\n",
    "        lambda_kf=np.maximum(np.array([0]*m), lambda_ki + rho*(cj(xk,1)+ cj(xk,2))\n",
    "    return xk,k "
   ]
  },
  {
   "cell_type": "code",
   "execution_count": null,
   "id": "4d33dcb9",
   "metadata": {},
   "outputs": [],
   "source": [
    "x0=\n",
    "lambda_0=\n",
    "x,k=decomposition_coordination(f_tres, x0, lambda_0, rho=0.1,N_iter=40,epsilon=0.01)"
   ]
  }
 ],
 "metadata": {
  "kernelspec": {
   "display_name": "Python 3 (ipykernel)",
   "language": "python",
   "name": "python3"
  },
  "language_info": {
   "codemirror_mode": {
    "name": "ipython",
    "version": 3
   },
   "file_extension": ".py",
   "mimetype": "text/x-python",
   "name": "python",
   "nbconvert_exporter": "python",
   "pygments_lexer": "ipython3",
   "version": "3.9.5"
  }
 },
 "nbformat": 4,
 "nbformat_minor": 5
}
