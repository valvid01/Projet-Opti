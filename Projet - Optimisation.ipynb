{
 "cells": [
  {
   "cell_type": "code",
   "execution_count": 1,
   "id": "a4565919",
   "metadata": {},
   "outputs": [],
   "source": [
    "import numpy as np\n",
    "from scipy import optimize\n",
    "from casadi import *\n",
    "import time\n",
    "import autograd"
   ]
  },
  {
   "cell_type": "code",
   "execution_count": 7,
   "id": "51ba0fd0",
   "metadata": {},
   "outputs": [
    {
     "name": "stdout",
     "output_type": "stream",
     "text": [
      "Note: you may need to restart the kernel to use updated packages.\n"
     ]
    },
    {
     "name": "stderr",
     "output_type": "stream",
     "text": [
      "ERROR: Invalid requirement: 'time,'\n"
     ]
    }
   ],
   "source": [
    "pip install time, autograd"
   ]
  },
  {
   "cell_type": "code",
   "execution_count": 2,
   "id": "3ad30770",
   "metadata": {},
   "outputs": [],
   "source": [
    "N=47 #taille des tableaux \n",
    "dt=0.5\n",
    "t0=23\n",
    "k=0.01\n",
    "h=0.05\n",
    "b=1/500"
   ]
  },
  {
   "cell_type": "code",
   "execution_count": 3,
   "id": "ce2ce34b",
   "metadata": {},
   "outputs": [],
   "source": [
    "Tm=18\n",
    "T_in=Tm\n",
    "TM=30\n",
    "PM=5000\n",
    "c_cr=1\n",
    "c_pl=3/2"
   ]
  },
  {
   "cell_type": "code",
   "execution_count": 16,
   "id": "6e99b345",
   "metadata": {},
   "outputs": [
    {
     "name": "stdout",
     "output_type": "stream",
     "text": [
      "[1.5 1.5 1.  1.  1.  1.  1.  1.  1.  1.  1.  1.  1.  1.  1.  1.5 1.5 1.5\n",
      " 1.5 1.5 1.5 1.5 1.5 1.5 1.5 1.5 1.  1.  1.  1.  1.  1.5 1.5 1.5 1.5 1.5\n",
      " 1.5 1.5 1.5 1.5 1.5 1.5 1.5 1.5 1.5 1.5 1.5 1.5 0.  0.  0.  0.  0.  0.\n",
      " 0.  0.  0.  0.  0.  0.  0.  0.  0.  0.  0.  0.  0.  0.  0.  0.  0.  0.\n",
      " 0.  0.  0.  0.  0.  0.  0.  0.  0.  0.  0.  0.  0.  0.  0.  0.  0.  0.\n",
      " 0.  0.  0.  0.  0.  0. ]\n"
     ]
    }
   ],
   "source": [
    "c=np.full(96, c_pl)\n",
    "c[2:15]=c_cr\n",
    "c[26:31]=c_cr\n",
    "c[48:] = 0\n",
    "print(c)"
   ]
  },
  {
   "cell_type": "code",
   "execution_count": null,
   "id": "68d64813",
   "metadata": {},
   "outputs": [],
   "source": [
    "def f(x):\n",
    "    return np.dot(c,x)\n",
    "    \n",
    "def c_eq(x):\n",
    "    c=np.zeros(2*N+2)\n",
    "    c[N]=x[N]cd \n",
    "    c[N+1]= x[N+1] - T_in\n",
    "    t=t0\n",
    "    #Te= 4+ 8*np.exp(-(t-12)**2/40)\n",
    "    #g=np.exp(-(k+h)*dt)*x[N+1] +(1-np.exp(-(k+h)*dt))(b*x[0] +h*Te)/(k+h)\n",
    "    \n",
    "    for i in range(N+2,2*N+2):\n",
    "        Te= 4+ 8*np.exp(-(t-12)**2/40)\n",
    "        g=np.exp(-(k+h)*dt)*x[i-1] +(1-np.exp(-(k+h)*dt))(b*x[i-1-(N+1)]+h*Te)/(k+h)\n",
    "        c[i]=x[i]- g\n",
    "        t+=dt\n",
    "    return c\n",
    "\n",
    "def c_in(x):\n",
    "    u=np.zeros(2*N+2)\n",
    "    v=np.zeros(2*N+2)\n",
    "    cin=np.zeros((2*N+2,2))\n",
    "    for i in range(N+1, 2*N+2):\n",
    "        if (16+N+1<=i and i<=20+N+1):\n",
    "            v[i]=Tm - x[i]\n",
    "            u[i]=x[i]- TM\n",
    "        else:\n",
    "            if (38+N+1<=i and i<=47+N+1):\n",
    "                v[i]=Tm - x[i]\n",
    "                u[i]=x[i]- TM\n",
    "    for i in range(0,N+1):\n",
    "        u[i]=x[i]- PM\n",
    "        v[i]= - x[i]\n",
    "    cin[:,0]=u\n",
    "    cin[:,1]=v\n",
    "    return cin\n"
   ]
  },
  {
   "cell_type": "code",
   "execution_count": null,
   "id": "168f1412",
   "metadata": {
    "scrolled": true
   },
   "outputs": [],
   "source": [
    "opti = casadi.Opti()\n",
    "n = 2*N+2\n",
    "x = opti.variable(n)\n",
    "f=0\n",
    "for i in range(n):\n",
    "    f+=x[i]*c[i]\n",
    "\n",
    "#u=(c_in(x))[:,0]\n",
    "#v=(c_in(x))[:,1]\n",
    "cont=c_in(x)\n",
    "for i in range(n):\n",
    "    u_i=cont[i,0]\n",
    "    v_i=cont[i,1]\n",
    "    \n",
    "opti.minimize(f)\n",
    "for i in range(n):\n",
    "    opti.subject_to(u_i)\n",
    "    opti.subject_to(v_i)\n",
    "    \n",
    "opti.subject_to(c_eq(x)==0)\n",
    "\n",
    "x0 = np.zeros(2*N+2)\n",
    "x[N+1]= T_in\n",
    "\n",
    "opti.set_initial(x,x0)\n",
    "opti.solver('ipopt')\n",
    "sol = opti.solve()\n",
    "print(sol.value(x))"
   ]
  },
  {
   "cell_type": "code",
   "execution_count": null,
   "id": "2462afe7",
   "metadata": {},
   "outputs": [],
   "source": [
    "def grad(f):\n",
    "    d = autograd.grad\n",
    "    def grad_f(x, y):\n",
    "        return np.array([d(f, 0)(x, y), d(f, 1)(x, y)])\n",
    "    return grad_f\n",
    "\n",
    "def Jac(f):\n",
    "    j = autograd.jacobian\n",
    "    def J_f(x, y):\n",
    "        return np.array([j(f, 0)(x, y), j(f, 1)(x, y)]).T\n",
    "    return J_f"
   ]
  },
  {
   "cell_type": "code",
   "execution_count": null,
   "id": "d9e309a1",
   "metadata": {},
   "outputs": [],
   "source": [
    "def f_min(x):\n",
    "    np.dot(c,x)\n",
    "    \n",
    "grad_f_min=grad(f_min)\n",
    "J_cin= Jac(c_in)\n",
    "J_ceq= Jac(c_eq)\n",
    "\n",
    "x0 = np.zeros(2*N+2)\n",
    "x[N+1]= T_in\n",
    "    \n",
    "ineq_cons = {'type': 'ineq','fun' : lambda x: c_in(x),'jac' : lambda x: J_cin(x)}\n",
    "eq_cons={'type': 'eq','fun' : lambda x: c_eq(x),'jac' : lambda x: J_ceq(x)}\n",
    "#res = optimize.minimize(f, x0, method='SLSQP', jac=grad_f_min,\n",
    "#constraints=[ineq_cons, eq_cons], options={'disp': True})\n",
    "\n",
    "#print(res.x)"
   ]
  },
  {
   "cell_type": "markdown",
   "id": "49a8e0a0",
   "metadata": {},
   "source": [
    "### Partie 3"
   ]
  },
  {
   "cell_type": "code",
   "execution_count": null,
   "id": "c429df0a",
   "metadata": {},
   "outputs": [],
   "source": [
    "#Si on veut minimiser le coût total des nl logements:\n",
    "def f(x):\n",
    "    x_T=np.transpose(x)\n",
    "    couts= np.matmul(x_T,c)\n",
    "    return np.sum(couts)"
   ]
  },
  {
   "cell_type": "code",
   "execution_count": 2,
   "id": "82725859",
   "metadata": {},
   "outputs": [],
   "source": [
    "Tm_1=18\n",
    "Tm_2= 20\n",
    "TM=30\n",
    "PM=5000\n",
    "c_cr=1\n",
    "c_pl=3/2"
   ]
  },
  {
   "cell_type": "code",
   "execution_count": 3,
   "id": "86846b82",
   "metadata": {},
   "outputs": [],
   "source": [
    "#j=1 ou 2\n",
    "#x est la concaténation des vecteurs associés à chaque logement; x est de taille (2N+2)*2= 4N+4, les 2N+2 premières coordonnées\n",
    "#correspondent au logement 1 (j=1) -pressions et températures - et les 2N+2 dernières au logement 2 (j=2)\n",
    "\n",
    "def c_eq_bis(x,j):\n",
    "    \n",
    "    indice_autre=2\n",
    "    if j==2:\n",
    "        indice_autre=1\n",
    "    if j==1:\n",
    "        T_in=Tm_1\n",
    "    else:\n",
    "        T_in=Tm_2\n",
    "        \n",
    "    c=np.zeros((2*N+2,2))\n",
    "    c[N]=x[N + (2*N+2)*(j-1)]\n",
    "    c[N+1]= x[N+1+(2*N+2)*j] - T_in\n",
    "    t=t0\n",
    "    #Te= 4+ 8*np.exp(-(t-12)**2/40)\n",
    "    #g=np.exp(-(k+2*h)*dt)*x[N+1 +(2*N+2)*(j-1)]+(1-np.exp(-(k+2*h)*dt))(b*x[0 +(2*N+2)*j] +h*Te+h*T_in)/(k+2*h)\n",
    "    \n",
    "    for i in range(N+2,2*N+2):\n",
    "        Te= 4+ 8*np.exp(-(t-12)**2/40)\n",
    "        g=np.exp(-(k+ 2*h)*dt)*x[i-1 +(2*N+2)*(j-1)] +(1-np.exp(-(k+2*h)*dt))(b*x[i-1-(N+1) +(2*N+2)*(j-1)]+h*Te+h*x[i + (2*N+2)*(indice_autre -1)])/(k+2*h)\n",
    "        c[i]=x[i +(2*N+2)*(j-1)]- g\n",
    "        t+=dt\n",
    "    return c\n",
    "\n",
    "def c_in_bis(x):\n",
    "    u1=np.zeros(2*N+2)\n",
    "    v1=np.zeros(2*N+2)\n",
    "    u2=np.zeros(2*N+2)\n",
    "    v2=np.zeros(2*N+2)\n",
    "    cin=np.zeros((2*N+2,4))\n",
    "    for i in range(N+1, 2*N+2):\n",
    "        if (16+N+1<=i and i<=20+N+1):\n",
    "            v1[i]=Tm - x[i]\n",
    "            u1[i]=x[i]- TM\n",
    "            v2[i]=Tm - x[i+(2*N+2)]\n",
    "            u2[i]=x[i+(2*N+2)]- TM\n",
    "        else:\n",
    "            if (38+N+1<=i and i<=47+N+1):\n",
    "                v1[i]=Tm_1 - x[i][0]\n",
    "                u1[i]=x[i][1]- TM\n",
    "                v2[i]=Tm_2 - x[i+(2*N+2)][1]\n",
    "                u2[i]=x[i+(2*N+2)][1]- TM\n",
    "    for i in range(0,N+1):\n",
    "        u1[i]=x[i]- PM\n",
    "        v1[i]= - x[i]\n",
    "        u2[i]=x[i+(2*N+2)]- PM\n",
    "        v2[i]= - x[i+(2*N+2)]\n",
    "    cin[:,0]= u1\n",
    "    cin[:,0]= v1\n",
    "    cin[:,0]= u2\n",
    "    cin[:,0]= v2\n",
    "    return cin"
   ]
  }
 ],
 "metadata": {
  "kernelspec": {
   "display_name": "Python 3 (ipykernel)",
   "language": "python",
   "name": "python3"
  },
  "language_info": {
   "codemirror_mode": {
    "name": "ipython",
    "version": 3
   },
   "file_extension": ".py",
   "mimetype": "text/x-python",
   "name": "python",
   "nbconvert_exporter": "python",
   "pygments_lexer": "ipython3",
   "version": "3.9.7"
  }
 },
 "nbformat": 4,
 "nbformat_minor": 5
}
